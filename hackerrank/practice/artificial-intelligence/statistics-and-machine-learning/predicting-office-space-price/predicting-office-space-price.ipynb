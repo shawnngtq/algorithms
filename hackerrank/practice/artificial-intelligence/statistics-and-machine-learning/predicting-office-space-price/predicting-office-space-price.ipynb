{
 "cells": [
  {
   "cell_type": "markdown",
   "metadata": {},
   "source": [
    "https://www.hackerrank.com/challenges/predicting-office-space-price/problem"
   ]
  },
  {
   "cell_type": "code",
   "execution_count": 1,
   "metadata": {},
   "outputs": [],
   "source": [
    "from IPython.display import display, HTML\n",
    "import matplotlib.pyplot as plt\n",
    "import numpy as np\n",
    "import os\n",
    "import pandas as pd\n",
    "import seaborn as sns\n",
    "\n",
    "pd.set_option(\"display.max_columns\", 500)\n",
    "pd.set_option(\"display.max_colwidth\", 500)\n",
    "pd.set_option(\"display.expand_frame_repr\", True)"
   ]
  },
  {
   "cell_type": "code",
   "execution_count": 2,
   "metadata": {},
   "outputs": [],
   "source": [
    "from sklearn import linear_model\n",
    "from sklearn import preprocessing"
   ]
  },
  {
   "cell_type": "code",
   "execution_count": 3,
   "metadata": {},
   "outputs": [],
   "source": [
    "# data = pd.read_csv(\"input/input03.txt\", sep=\" \", header=None)\n",
    "# data.info()"
   ]
  },
  {
   "cell_type": "code",
   "execution_count": 4,
   "metadata": {},
   "outputs": [
    {
     "data": {
      "text/plain": [
       "[['2', '100'],\n",
       " ['0.44', '0.68', '511.14'],\n",
       " ['0.99', '0.23', '717.1'],\n",
       " ['0.84', '0.29', '607.91'],\n",
       " ['0.28', '0.45', '270.4'],\n",
       " ['0.07', '0.83', '289.88'],\n",
       " ['0.66', '0.8', '830.85'],\n",
       " ['0.73', '0.92', '1038.09'],\n",
       " ['0.57', '0.43', '455.19'],\n",
       " ['0.43', '0.89', '640.17'],\n",
       " ['0.27', '0.95', '511.06'],\n",
       " ['0.43', '0.06', '177.03'],\n",
       " ['0.87', '0.91', '1242.52'],\n",
       " ['0.78', '0.69', '891.37'],\n",
       " ['0.9', '0.94', '1339.72'],\n",
       " ['0.41', '0.06', '169.88'],\n",
       " ['0.52', '0.17', '276.05'],\n",
       " ['0.47', '0.66', '517.43'],\n",
       " ['0.65', '0.43', '522.25'],\n",
       " ['0.85', '0.64', '932.21'],\n",
       " ['0.93', '0.44', '851.25'],\n",
       " ['0.41', '0.93', '640.11'],\n",
       " ['0.36', '0.43', '308.68'],\n",
       " ['0.78', '0.85', '1046.05'],\n",
       " ['0.69', '0.07', '332.4'],\n",
       " ['0.04', '0.52', '171.85'],\n",
       " ['0.17', '0.15', '109.55'],\n",
       " ['0.68', '0.13', '361.97'],\n",
       " ['0.84', '0.6', '872.21'],\n",
       " ['0.38', '0.4', '303.7'],\n",
       " ['0.12', '0.65', '256.38'],\n",
       " ['0.62', '0.17', '341.2'],\n",
       " ['0.79', '0.97', '1194.63'],\n",
       " ['0.82', '0.04', '408.6'],\n",
       " ['0.91', '0.53', '895.54'],\n",
       " ['0.35', '0.85', '518.25'],\n",
       " ['0.57', '0.69', '638.75'],\n",
       " ['0.52', '0.22', '301.9'],\n",
       " ['0.31', '0.15', '163.38'],\n",
       " ['0.6', '0.02', '240.77'],\n",
       " ['0.99', '0.91', '1449.05'],\n",
       " ['0.48', '0.76', '609.0'],\n",
       " ['0.3', '0.19', '174.59'],\n",
       " ['0.58', '0.62', '593.45'],\n",
       " ['0.65', '0.17', '355.96'],\n",
       " ['0.6', '0.69', '671.46'],\n",
       " ['0.95', '0.76', '1193.7'],\n",
       " ['0.47', '0.23', '278.88'],\n",
       " ['0.15', '0.96', '411.4'],\n",
       " ['0.01', '0.03', '42.08'],\n",
       " ['0.26', '0.23', '166.19'],\n",
       " ['0.01', '0.11', '58.62'],\n",
       " ['0.45', '0.87', '642.45'],\n",
       " ['0.09', '0.97', '368.14'],\n",
       " ['0.96', '0.25', '702.78'],\n",
       " ['0.63', '0.58', '615.74'],\n",
       " ['0.06', '0.42', '143.79'],\n",
       " ['0.1', '0.24', '109.0'],\n",
       " ['0.26', '0.62', '328.28'],\n",
       " ['0.41', '0.15', '205.16'],\n",
       " ['0.91', '0.95', '1360.49'],\n",
       " ['0.83', '0.64', '905.83'],\n",
       " ['0.44', '0.64', '487.33'],\n",
       " ['0.2', '0.4', '202.76'],\n",
       " ['0.43', '0.12', '202.01'],\n",
       " ['0.21', '0.22', '148.87'],\n",
       " ['0.88', '0.4', '745.3'],\n",
       " ['0.31', '0.87', '503.04'],\n",
       " ['0.99', '0.99', '1563.82'],\n",
       " ['0.23', '0.26', '165.21'],\n",
       " ['0.79', '0.12', '438.4'],\n",
       " ['0.02', '0.28', '98.47'],\n",
       " ['0.89', '0.48', '819.63'],\n",
       " ['0.02', '0.56', '174.44'],\n",
       " ['0.92', '0.03', '483.13'],\n",
       " ['0.72', '0.34', '534.24'],\n",
       " ['0.3', '0.99', '572.31'],\n",
       " ['0.86', '0.66', '957.61'],\n",
       " ['0.47', '0.65', '518.29'],\n",
       " ['0.79', '0.94', '1143.49'],\n",
       " ['0.82', '0.96', '1211.31'],\n",
       " ['0.9', '0.42', '784.74'],\n",
       " ['0.19', '0.62', '283.7'],\n",
       " ['0.7', '0.57', '684.38'],\n",
       " ['0.7', '0.61', '719.46'],\n",
       " ['0.69', '0.0', '292.23'],\n",
       " ['0.98', '0.3', '775.68'],\n",
       " ['0.3', '0.08', '130.77'],\n",
       " ['0.85', '0.49', '801.6'],\n",
       " ['0.73', '0.01', '323.55'],\n",
       " ['1.0', '0.23', '726.9'],\n",
       " ['0.42', '0.94', '661.12'],\n",
       " ['0.49', '0.98', '771.11'],\n",
       " ['0.89', '0.68', '1016.14'],\n",
       " ['0.22', '0.46', '237.69'],\n",
       " ['0.34', '0.5', '325.89'],\n",
       " ['0.99', '0.13', '636.22'],\n",
       " ['0.28', '0.46', '272.12'],\n",
       " ['0.87', '0.36', '696.65'],\n",
       " ['0.23', '0.87', '434.53'],\n",
       " ['0.77', '0.36', '593.86'],\n",
       " ['4'],\n",
       " ['0.05', '0.54'],\n",
       " ['0.91', '0.91'],\n",
       " ['0.31', '0.76'],\n",
       " ['0.51', '0.31']]"
      ]
     },
     "execution_count": 4,
     "metadata": {},
     "output_type": "execute_result"
    }
   ],
   "source": [
    "with open(\"input/input03.txt\", \"r\") as f:\n",
    "    content = f.readlines()\n",
    "#     print(f.read())\n",
    "#     for line in f:\n",
    "#         print(line.split(\" \"))\n",
    "\n",
    "cont = [x.strip().split(\" \") for x in content]\n",
    "cont"
   ]
  },
  {
   "cell_type": "code",
   "execution_count": 5,
   "metadata": {},
   "outputs": [
    {
     "data": {
      "text/plain": [
       "('2', '100')"
      ]
     },
     "execution_count": 5,
     "metadata": {},
     "output_type": "execute_result"
    }
   ],
   "source": [
    "F, N = cont[0]\n",
    "F, N"
   ]
  },
  {
   "cell_type": "code",
   "execution_count": 6,
   "metadata": {},
   "outputs": [
    {
     "data": {
      "text/plain": [
       "(100, 3)"
      ]
     },
     "execution_count": 6,
     "metadata": {},
     "output_type": "execute_result"
    }
   ],
   "source": [
    "train = np.array(cont[1 : int(N) + 1], float)\n",
    "train.shape"
   ]
  },
  {
   "cell_type": "code",
   "execution_count": 7,
   "metadata": {},
   "outputs": [
    {
     "data": {
      "text/plain": [
       "4"
      ]
     },
     "execution_count": 7,
     "metadata": {},
     "output_type": "execute_result"
    }
   ],
   "source": [
    "T = int(cont[int(N) + 1][0])\n",
    "T"
   ]
  },
  {
   "cell_type": "code",
   "execution_count": 8,
   "metadata": {},
   "outputs": [
    {
     "data": {
      "text/plain": [
       "array([[0.05, 0.54],\n",
       "       [0.91, 0.91],\n",
       "       [0.31, 0.76],\n",
       "       [0.51, 0.31]])"
      ]
     },
     "execution_count": 8,
     "metadata": {},
     "output_type": "execute_result"
    }
   ],
   "source": [
    "test = np.array(cont[int(N) + 2 :], float)\n",
    "test"
   ]
  },
  {
   "cell_type": "code",
   "execution_count": 9,
   "metadata": {
    "scrolled": true
   },
   "outputs": [
    {
     "data": {
      "text/plain": [
       "LinearRegression(copy_X=True, fit_intercept=True, n_jobs=None, normalize=False)"
      ]
     },
     "execution_count": 9,
     "metadata": {},
     "output_type": "execute_result"
    }
   ],
   "source": [
    "model = linear_model.LinearRegression()\n",
    "poly = preprocessing.PolynomialFeatures(3, include_bias=False)\n",
    "model.fit(poly.fit_transform(train[:, :-1]), train[:, -1])"
   ]
  },
  {
   "cell_type": "code",
   "execution_count": 10,
   "metadata": {},
   "outputs": [
    {
     "data": {
      "text/plain": [
       "array([ 180.37682443, 1312.06505966,  440.1292533 ,  343.71538008])"
      ]
     },
     "execution_count": 10,
     "metadata": {},
     "output_type": "execute_result"
    }
   ],
   "source": [
    "pred = model.predict(poly.fit_transform(test))\n",
    "pred"
   ]
  },
  {
   "cell_type": "code",
   "execution_count": null,
   "metadata": {},
   "outputs": [],
   "source": []
  }
 ],
 "metadata": {
  "kernelspec": {
   "display_name": "Python 3",
   "language": "python",
   "name": "python3"
  },
  "language_info": {
   "codemirror_mode": {
    "name": "ipython",
    "version": 3
   },
   "file_extension": ".py",
   "mimetype": "text/x-python",
   "name": "python",
   "nbconvert_exporter": "python",
   "pygments_lexer": "ipython3",
   "version": "3.7.3"
  }
 },
 "nbformat": 4,
 "nbformat_minor": 2
}
