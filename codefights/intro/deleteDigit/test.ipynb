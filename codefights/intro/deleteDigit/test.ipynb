{
 "cells": [
  {
   "cell_type": "code",
   "execution_count": 1,
   "metadata": {
    "collapsed": true
   },
   "outputs": [],
   "source": [
    "def deleteDigit(n):\n",
    "    st = str(n)\n",
    "    values = []\n",
    "    if len(st) == 2:\n",
    "        return int(max(list(st)))\n",
    "    for i in range(len(st)):\n",
    "        value = st[0:i] + st[i + 1 :]\n",
    "        values.append(value)\n",
    "        # print(values)\n",
    "    return int(max(values))"
   ]
  },
  {
   "cell_type": "code",
   "execution_count": 6,
   "metadata": {
    "collapsed": true
   },
   "outputs": [],
   "source": [
    "def deleteDigit(n):\n",
    "    n = str(n)\n",
    "    return max(int(\"\".join(n[:i] + n[i + 1 :])) for i in range(len(n)))"
   ]
  },
  {
   "cell_type": "code",
   "execution_count": 11,
   "metadata": {
    "collapsed": true
   },
   "outputs": [],
   "source": [
    "def deleteDigit(n):\n",
    "    max = 0\n",
    "    a = 0\n",
    "    s = str(n)\n",
    "    s1 = \"\"\n",
    "    for i in range(len(s)):\n",
    "        s1 = s[:i] + s[i + 1 :]\n",
    "        a = int(s1)\n",
    "        if a > max:\n",
    "            max = a\n",
    "    return max"
   ]
  },
  {
   "cell_type": "code",
   "execution_count": 13,
   "metadata": {},
   "outputs": [
    {
     "data": {
      "text/plain": [
       "52"
      ]
     },
     "execution_count": 13,
     "metadata": {},
     "output_type": "execute_result"
    }
   ],
   "source": [
    "n = 152\n",
    "deleteDigit(n)\n",
    "# Expected Output: 52"
   ]
  },
  {
   "cell_type": "code",
   "execution_count": 14,
   "metadata": {},
   "outputs": [
    {
     "data": {
      "text/plain": [
       "101"
      ]
     },
     "execution_count": 14,
     "metadata": {},
     "output_type": "execute_result"
    }
   ],
   "source": [
    "n = 1001\n",
    "deleteDigit(n)\n",
    "# Expected Output: 101"
   ]
  },
  {
   "cell_type": "code",
   "execution_count": 15,
   "metadata": {},
   "outputs": [
    {
     "data": {
      "text/plain": [
       "1"
      ]
     },
     "execution_count": 15,
     "metadata": {},
     "output_type": "execute_result"
    }
   ],
   "source": [
    "n = 10\n",
    "deleteDigit(n)\n",
    "# Expected Output: 1"
   ]
  },
  {
   "cell_type": "code",
   "execution_count": 16,
   "metadata": {},
   "outputs": [
    {
     "data": {
      "text/plain": [
       "22229"
      ]
     },
     "execution_count": 16,
     "metadata": {},
     "output_type": "execute_result"
    }
   ],
   "source": [
    "n = 222219\n",
    "deleteDigit(n)\n",
    "# Expected Output: 22229"
   ]
  },
  {
   "cell_type": "code",
   "execution_count": null,
   "metadata": {
    "collapsed": true
   },
   "outputs": [],
   "source": []
  }
 ],
 "metadata": {
  "kernelspec": {
   "display_name": "Python 3",
   "language": "python",
   "name": "python3"
  },
  "language_info": {
   "codemirror_mode": {
    "name": "ipython",
    "version": 3
   },
   "file_extension": ".py",
   "mimetype": "text/x-python",
   "name": "python",
   "nbconvert_exporter": "python",
   "pygments_lexer": "ipython3",
   "version": "3.6.3"
  }
 },
 "nbformat": 4,
 "nbformat_minor": 2
}
