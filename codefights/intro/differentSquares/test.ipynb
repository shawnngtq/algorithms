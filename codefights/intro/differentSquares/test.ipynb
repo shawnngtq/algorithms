{
 "cells": [
  {
   "cell_type": "code",
   "execution_count": 1,
   "metadata": {
    "collapsed": true
   },
   "outputs": [],
   "source": [
    "def differentSquares(matrix):\n",
    "    rows, cols, squares = len(matrix), len(matrix[0]), []\n",
    "    for i in range(rows - 1):\n",
    "        for j in range(cols - 1):\n",
    "            square = [\n",
    "                matrix[i][j],\n",
    "                matrix[i][j + 1],\n",
    "                matrix[i + 1][j],\n",
    "                matrix[i + 1][j + 1],\n",
    "            ]\n",
    "            if square not in squares:\n",
    "                squares.append(square)\n",
    "    return len(squares)"
   ]
  },
  {
   "cell_type": "code",
   "execution_count": 2,
   "metadata": {},
   "outputs": [
    {
     "data": {
      "text/plain": [
       "6"
      ]
     },
     "execution_count": 2,
     "metadata": {},
     "output_type": "execute_result"
    }
   ],
   "source": [
    "matrix = [[1, 2, 1], [2, 2, 2], [2, 2, 2], [1, 2, 3], [2, 2, 1]]\n",
    "differentSquares(matrix)\n",
    "# Expected Output:6"
   ]
  },
  {
   "cell_type": "code",
   "execution_count": 3,
   "metadata": {},
   "outputs": [
    {
     "data": {
      "text/plain": [
       "1"
      ]
     },
     "execution_count": 3,
     "metadata": {},
     "output_type": "execute_result"
    }
   ],
   "source": [
    "matrix = [\n",
    "    [9, 9, 9, 9, 9],\n",
    "    [9, 9, 9, 9, 9],\n",
    "    [9, 9, 9, 9, 9],\n",
    "    [9, 9, 9, 9, 9],\n",
    "    [9, 9, 9, 9, 9],\n",
    "    [9, 9, 9, 9, 9],\n",
    "]\n",
    "differentSquares(matrix)\n",
    "# Expected Output:1"
   ]
  },
  {
   "cell_type": "code",
   "execution_count": 4,
   "metadata": {},
   "outputs": [
    {
     "data": {
      "text/plain": [
       "0"
      ]
     },
     "execution_count": 4,
     "metadata": {},
     "output_type": "execute_result"
    }
   ],
   "source": [
    "matrix = [[3]]\n",
    "differentSquares(matrix)\n",
    "# Expected Output:0"
   ]
  },
  {
   "cell_type": "code",
   "execution_count": 5,
   "metadata": {},
   "outputs": [
    {
     "data": {
      "text/plain": [
       "0"
      ]
     },
     "execution_count": 5,
     "metadata": {},
     "output_type": "execute_result"
    }
   ],
   "source": [
    "matrix = [[3, 4, 5, 6, 7, 8, 9]]\n",
    "differentSquares(matrix)\n",
    "# Expected Output:0"
   ]
  },
  {
   "cell_type": "code",
   "execution_count": 6,
   "metadata": {},
   "outputs": [
    {
     "data": {
      "text/plain": [
       "0"
      ]
     },
     "execution_count": 6,
     "metadata": {},
     "output_type": "execute_result"
    }
   ],
   "source": [
    "matrix = [[3], [4], [5], [6], [7]]\n",
    "differentSquares(matrix)\n",
    "# Expected Output:0"
   ]
  },
  {
   "cell_type": "code",
   "execution_count": 7,
   "metadata": {},
   "outputs": [
    {
     "data": {
      "text/plain": [
       "54"
      ]
     },
     "execution_count": 7,
     "metadata": {},
     "output_type": "execute_result"
    }
   ],
   "source": [
    "matrix = [\n",
    "    [2, 5, 3, 4, 3, 1, 3, 2],\n",
    "    [4, 5, 4, 1, 2, 4, 1, 3],\n",
    "    [1, 1, 2, 1, 4, 1, 1, 5],\n",
    "    [1, 3, 4, 2, 3, 4, 2, 4],\n",
    "    [1, 5, 5, 2, 1, 3, 1, 1],\n",
    "    [1, 2, 3, 3, 5, 1, 2, 4],\n",
    "    [3, 1, 4, 4, 4, 1, 5, 5],\n",
    "    [5, 1, 3, 3, 1, 5, 3, 5],\n",
    "    [5, 4, 4, 3, 5, 4, 4, 4],\n",
    "]\n",
    "differentSquares(matrix)\n",
    "# Expected Output:54"
   ]
  },
  {
   "cell_type": "code",
   "execution_count": 8,
   "metadata": {},
   "outputs": [
    {
     "data": {
      "text/plain": [
       "0"
      ]
     },
     "execution_count": 8,
     "metadata": {},
     "output_type": "execute_result"
    }
   ],
   "source": [
    "matrix = [[1, 1, 1, 1, 1, 1, 2, 2, 2, 3, 3, 3, 9, 9, 9, 2, 3, 9]]\n",
    "differentSquares(matrix)\n",
    "# Expected Output:0"
   ]
  },
  {
   "cell_type": "code",
   "execution_count": null,
   "metadata": {
    "collapsed": true
   },
   "outputs": [],
   "source": []
  }
 ],
 "metadata": {
  "kernelspec": {
   "display_name": "Python 3",
   "language": "python",
   "name": "python3"
  },
  "language_info": {
   "codemirror_mode": {
    "name": "ipython",
    "version": 3
   },
   "file_extension": ".py",
   "mimetype": "text/x-python",
   "name": "python",
   "nbconvert_exporter": "python",
   "pygments_lexer": "ipython3",
   "version": "3.6.3"
  }
 },
 "nbformat": 4,
 "nbformat_minor": 2
}
