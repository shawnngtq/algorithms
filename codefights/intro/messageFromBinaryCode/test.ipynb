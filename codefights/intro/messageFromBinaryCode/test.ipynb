{
 "cells": [
  {
   "cell_type": "code",
   "execution_count": 1,
   "metadata": {
    "collapsed": true
   },
   "outputs": [],
   "source": [
    "# Method 1\n",
    "def messageFromBinaryCode(code):\n",
    "    parts = [code[i : i + 8] for i in range(0, len(code), 8)]\n",
    "    result = \"\"\n",
    "    for part in parts:\n",
    "        result += chr(int(part, 2))\n",
    "    return result"
   ]
  },
  {
   "cell_type": "code",
   "execution_count": 2,
   "metadata": {
    "collapsed": true
   },
   "outputs": [],
   "source": [
    "# Method 2\n",
    "def messageFromBinaryCode(code):\n",
    "    return \"\".join(\n",
    "        [chr(int(code[8 * i : 8 * i + 8], 2)) for i in range(len(code) // 8)]\n",
    "    )"
   ]
  },
  {
   "cell_type": "code",
   "execution_count": 3,
   "metadata": {
    "collapsed": true
   },
   "outputs": [],
   "source": [
    "# Method 3\n",
    "def messageFromBinaryCode(code):\n",
    "    n = int(code, 2)\n",
    "    return n.to_bytes((n.bit_length() + 7) // 8, \"big\").decode()"
   ]
  },
  {
   "cell_type": "code",
   "execution_count": 4,
   "metadata": {},
   "outputs": [
    {
     "name": "stdout",
     "output_type": "stream",
     "text": [
      "Hello!\n"
     ]
    }
   ],
   "source": [
    "# Unit test\n",
    "code = \"010010000110010101101100011011000110111100100001\"\n",
    "print(messageFromBinaryCode(code))\n",
    "# Expected Output = \"Hello!\""
   ]
  },
  {
   "cell_type": "code",
   "execution_count": 5,
   "metadata": {},
   "outputs": [
    {
     "name": "stdout",
     "output_type": "stream",
     "text": [
      "May the Force be with you\n"
     ]
    }
   ],
   "source": [
    "# Unit test\n",
    "code = \"01001101011000010111100100100000011101000110100001100101001000000100011001101111011100100110001101100101001000000110001001100101001000000111011101101001011101000110100000100000011110010110111101110101\"\n",
    "print(messageFromBinaryCode(code))\n",
    "# Expected Output = \"May the Force be with you\""
   ]
  },
  {
   "cell_type": "code",
   "execution_count": 6,
   "metadata": {},
   "outputs": [
    {
     "name": "stdout",
     "output_type": "stream",
     "text": [
      "You had me at `hello.\n"
     ]
    }
   ],
   "source": [
    "# Unit test\n",
    "code = \"010110010110111101110101001000000110100001100001011001000010000001101101011001010010000001100001011101000010000001100000011010000110010101101100011011000110111100101110\"\n",
    "print(messageFromBinaryCode(code))\n",
    "# Expected Output = \"You had me at `hello.\""
   ]
  }
 ],
 "metadata": {
  "kernelspec": {
   "display_name": "Python 3",
   "language": "python",
   "name": "python3"
  },
  "language_info": {
   "codemirror_mode": {
    "name": "ipython",
    "version": 3
   },
   "file_extension": ".py",
   "mimetype": "text/x-python",
   "name": "python",
   "nbconvert_exporter": "python",
   "pygments_lexer": "ipython3",
   "version": "3.6.3"
  }
 },
 "nbformat": 4,
 "nbformat_minor": 2
}
